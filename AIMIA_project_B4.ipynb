{
  "nbformat": 4,
  "nbformat_minor": 0,
  "metadata": {
    "colab": {
      "provenance": []
    },
    "kernelspec": {
      "name": "python3",
      "display_name": "Python 3"
    },
    "language_info": {
      "name": "python"
    },
    "accelerator": "GPU",
    "gpuClass": "standard"
  },
  "cells": [
    {
      "cell_type": "code",
      "execution_count": null,
      "metadata": {
        "id": "gG5cZRD_PEw8"
      },
      "outputs": [],
      "source": [
        "import numpy as np\n",
        "import pandas as pd\n",
        "import matplotlib.pyplot as plt\n",
        "import seaborn as sns\n",
        "import os\n",
        "from IPython.display import Image\n",
        "import zipfile as zf\n",
        "import matplotlib.image as img \n",
        "import tensorflow as tf\n",
        "from tensorflow.keras.applications.efficientnet import EfficientNetB4\n",
        "import random\n",
        "from sklearn.metrics import confusion_matrix\n",
        "\n",
        "seed=0\n",
        "os.environ['PYTHONHASHSEED'] = str(seed)\n",
        "# For working on GPUs from \"TensorFlow Determinism\"\n",
        "os.environ[\"TF_DETERMINISTIC_OPS\"] = str(seed)\n",
        "np.random.seed(seed)\n",
        "random.seed(seed)\n",
        "tf.random.set_seed(seed)"
      ]
    },
    {
      "cell_type": "code",
      "source": [
        "tf.test.gpu_device_name()"
      ],
      "metadata": {
        "colab": {
          "base_uri": "https://localhost:8080/",
          "height": 36
        },
        "id": "NAsRp9WuPISr",
        "outputId": "54146946-8f27-49ab-be03-83689cf2b05b"
      },
      "execution_count": null,
      "outputs": [
        {
          "output_type": "execute_result",
          "data": {
            "text/plain": [
              "'/device:GPU:0'"
            ],
            "application/vnd.google.colaboratory.intrinsic+json": {
              "type": "string"
            }
          },
          "metadata": {},
          "execution_count": 2
        }
      ]
    },
    {
      "cell_type": "code",
      "source": [
        "from google.colab import drive\n",
        "drive.mount('/content/drive')"
      ],
      "metadata": {
        "colab": {
          "base_uri": "https://localhost:8080/"
        },
        "id": "ACUw09B2PYD9",
        "outputId": "e70666c8-f9e2-4abb-8db8-d401ba510f5d"
      },
      "execution_count": null,
      "outputs": [
        {
          "output_type": "stream",
          "name": "stdout",
          "text": [
            "Mounted at /content/drive\n"
          ]
        }
      ]
    },
    {
      "cell_type": "code",
      "source": [
        "new_path='/content/drive/MyDrive/AIMIA_Project'"
      ],
      "metadata": {
        "id": "-mzzowsDPgWN"
      },
      "execution_count": null,
      "outputs": []
    },
    {
      "cell_type": "code",
      "source": [
        "train_dir = os.path.join(new_path, 'train')\n",
        "validation_dir = os.path.join(new_path, 'val')\n",
        "test_dir = os.path.join(new_path, 'test')\n",
        "\n",
        "BATCH_SIZE = 32\n",
        "IMG_SIZE = (256, 256)\n",
        "\n",
        "test_datagen = tf.keras.preprocessing.image.ImageDataGenerator()\n",
        "\n",
        "train_dataset = tf.keras.utils.image_dataset_from_directory(train_dir,\n",
        "                                                            shuffle=True,\n",
        "                                                            batch_size=BATCH_SIZE,\n",
        "                                                            label_mode=\"categorical\",\n",
        "                                                            seed = 1,\n",
        "                                                            image_size=IMG_SIZE)\n",
        "\n",
        "validation_dataset = tf.keras.utils.image_dataset_from_directory(validation_dir,\n",
        "                                                                 shuffle=True,\n",
        "                                                                 batch_size=BATCH_SIZE,\n",
        "                                                                 label_mode=\"categorical\",\n",
        "                                                                 seed = 1,\n",
        "                                                                 image_size=IMG_SIZE)\n",
        "test_dataset = test_datagen.flow_from_directory(test_dir,\n",
        "                                                shuffle=False,\n",
        "                                                batch_size=BATCH_SIZE,\n",
        "                                                class_mode=\"categorical\",\n",
        "                                                seed = 1,\n",
        "                                                target_size=IMG_SIZE)\n"
      ],
      "metadata": {
        "colab": {
          "base_uri": "https://localhost:8080/",
          "height": 235
        },
        "id": "hOSdKE8FPqvI",
        "outputId": "7f5e1dd6-2419-4e77-b872-90a6d8596469"
      },
      "execution_count": null,
      "outputs": [
        {
          "output_type": "error",
          "ename": "NameError",
          "evalue": "ignored",
          "traceback": [
            "\u001b[0;31m---------------------------------------------------------------------------\u001b[0m",
            "\u001b[0;31mNameError\u001b[0m                                 Traceback (most recent call last)",
            "\u001b[0;32m<ipython-input-2-3ae9be21da86>\u001b[0m in \u001b[0;36m<module>\u001b[0;34m\u001b[0m\n\u001b[0;32m----> 1\u001b[0;31m \u001b[0mtrain_dir\u001b[0m \u001b[0;34m=\u001b[0m \u001b[0mos\u001b[0m\u001b[0;34m.\u001b[0m\u001b[0mpath\u001b[0m\u001b[0;34m.\u001b[0m\u001b[0mjoin\u001b[0m\u001b[0;34m(\u001b[0m\u001b[0mnew_path\u001b[0m\u001b[0;34m,\u001b[0m \u001b[0;34m'train'\u001b[0m\u001b[0;34m)\u001b[0m\u001b[0;34m\u001b[0m\u001b[0;34m\u001b[0m\u001b[0m\n\u001b[0m\u001b[1;32m      2\u001b[0m \u001b[0mvalidation_dir\u001b[0m \u001b[0;34m=\u001b[0m \u001b[0mos\u001b[0m\u001b[0;34m.\u001b[0m\u001b[0mpath\u001b[0m\u001b[0;34m.\u001b[0m\u001b[0mjoin\u001b[0m\u001b[0;34m(\u001b[0m\u001b[0mnew_path\u001b[0m\u001b[0;34m,\u001b[0m \u001b[0;34m'val'\u001b[0m\u001b[0;34m)\u001b[0m\u001b[0;34m\u001b[0m\u001b[0;34m\u001b[0m\u001b[0m\n\u001b[1;32m      3\u001b[0m \u001b[0mtest_dir\u001b[0m \u001b[0;34m=\u001b[0m \u001b[0mos\u001b[0m\u001b[0;34m.\u001b[0m\u001b[0mpath\u001b[0m\u001b[0;34m.\u001b[0m\u001b[0mjoin\u001b[0m\u001b[0;34m(\u001b[0m\u001b[0mnew_path\u001b[0m\u001b[0;34m,\u001b[0m \u001b[0;34m'test'\u001b[0m\u001b[0;34m)\u001b[0m\u001b[0;34m\u001b[0m\u001b[0;34m\u001b[0m\u001b[0m\n\u001b[1;32m      4\u001b[0m \u001b[0;34m\u001b[0m\u001b[0m\n\u001b[1;32m      5\u001b[0m \u001b[0mBATCH_SIZE\u001b[0m \u001b[0;34m=\u001b[0m \u001b[0;36m32\u001b[0m\u001b[0;34m\u001b[0m\u001b[0;34m\u001b[0m\u001b[0m\n",
            "\u001b[0;31mNameError\u001b[0m: name 'os' is not defined"
          ]
        }
      ]
    },
    {
      "cell_type": "code",
      "source": [
        "class mymodelB4(EfficientNetB4):\n",
        "  \n",
        "  def __init__(self,include_top,weights,input_shape,pooling,fine_tune_at):\n",
        "    \n"
      ],
      "metadata": {
        "id": "z53J9FlvkvIi"
      },
      "execution_count": null,
      "outputs": []
    },
    {
      "cell_type": "code",
      "source": [
        "model = tf.keras.Sequential()\n",
        "effnetb4 = EfficientNetB4(include_top=False,weights='imagenet',input_shape=(256,256,3),pooling='max')\n",
        "fine_tune_at = 427\n",
        "# effnetb4.trainable = False\n",
        "# Freeze all the layers before the `fine_tune_at` layer\n",
        "for layer in effnetb4.layers[:fine_tune_at]:\n",
        "  layer.trainable = False\n",
        "model.add(effnetb4)\n",
        "model.add(tf.keras.layers.Dense(3,activation='softmax'))\n",
        "model.summary()\n",
        "len(effnetb4.layers)"
      ],
      "metadata": {
        "colab": {
          "base_uri": "https://localhost:8080/"
        },
        "id": "6_e6mEqUTi4G",
        "outputId": "f08855fd-13f3-4ad8-8293-8865116d93a7"
      },
      "execution_count": null,
      "outputs": [
        {
          "output_type": "stream",
          "name": "stdout",
          "text": [
            "Downloading data from https://storage.googleapis.com/keras-applications/efficientnetb4_notop.h5\n",
            "71686520/71686520 [==============================] - 1s 0us/step\n",
            "Model: \"sequential\"\n",
            "_________________________________________________________________\n",
            " Layer (type)                Output Shape              Param #   \n",
            "=================================================================\n",
            " efficientnetb4 (Functional)  (None, 1792)             17673823  \n",
            "                                                                 \n",
            " dense (Dense)               (None, 3)                 5379      \n",
            "                                                                 \n",
            "=================================================================\n",
            "Total params: 17,679,202\n",
            "Trainable params: 6,441,115\n",
            "Non-trainable params: 11,238,087\n",
            "_________________________________________________________________\n"
          ]
        },
        {
          "output_type": "execute_result",
          "data": {
            "text/plain": [
              "476"
            ]
          },
          "metadata": {},
          "execution_count": 2
        }
      ]
    },
    {
      "cell_type": "code",
      "source": [
        "optimizer = tf.keras.optimizers.Adam(name='Adam')\n",
        "ACCURACY_THRESHOLD = 0.98\n",
        "class myCallback(tf.keras.callbacks.Callback): \n",
        "    def on_epoch_end(self, epoch, logs={}): \n",
        "        if(logs.get('accuracy') > ACCURACY_THRESHOLD):   \n",
        "            print(\"\\nReached %2.2f%% accuracy, so stopping training!!\" %(ACCURACY_THRESHOLD*100))   \n",
        "            self.model.stop_training = True\n",
        "            \n",
        "callbacks = myCallback()\n",
        "model.compile(optimizer='Adam', loss='categorical_crossentropy', metrics=['accuracy'])"
      ],
      "metadata": {
        "id": "KeHGy0mSQ-Dv"
      },
      "execution_count": null,
      "outputs": []
    },
    {
      "cell_type": "code",
      "source": [
        "history = model.fit(x=train_dataset,epochs=40,validation_data=validation_dataset,shuffle=False,callbacks=callbacks)"
      ],
      "metadata": {
        "colab": {
          "base_uri": "https://localhost:8080/"
        },
        "id": "9dSiAmG_RQO1",
        "outputId": "e86b5f7e-5c63-41b8-8566-509e35edcc9e"
      },
      "execution_count": null,
      "outputs": [
        {
          "output_type": "stream",
          "name": "stdout",
          "text": [
            "Epoch 1/40\n",
            "77/77 [==============================] - 45s 408ms/step - loss: 0.9180 - accuracy: 0.8131 - val_loss: 0.8910 - val_accuracy: 0.8000\n",
            "Epoch 2/40\n",
            "77/77 [==============================] - 30s 365ms/step - loss: 0.1565 - accuracy: 0.9490 - val_loss: 0.4738 - val_accuracy: 0.8656\n",
            "Epoch 3/40\n",
            "77/77 [==============================] - 31s 369ms/step - loss: 0.0702 - accuracy: 0.9718 - val_loss: 0.2897 - val_accuracy: 0.9279\n",
            "Epoch 4/40\n",
            "77/77 [==============================] - 30s 365ms/step - loss: 0.0713 - accuracy: 0.9751 - val_loss: 0.3921 - val_accuracy: 0.9082\n",
            "Epoch 5/40\n",
            "77/77 [==============================] - 30s 362ms/step - loss: 0.0756 - accuracy: 0.9747 - val_loss: 0.4543 - val_accuracy: 0.9180\n",
            "Epoch 6/40\n",
            "77/77 [==============================] - 31s 370ms/step - loss: 0.0661 - accuracy: 0.9776 - val_loss: 0.2309 - val_accuracy: 0.9410\n",
            "Epoch 7/40\n",
            "77/77 [==============================] - ETA: 0s - loss: 0.0634 - accuracy: 0.9812\n",
            "Reached 98.00% accuracy, so stopping training!!\n",
            "77/77 [==============================] - 31s 368ms/step - loss: 0.0634 - accuracy: 0.9812 - val_loss: 0.1828 - val_accuracy: 0.9475\n"
          ]
        }
      ]
    },
    {
      "cell_type": "code",
      "source": [
        "Y_pred_test = model.predict(test_dataset)"
      ],
      "metadata": {
        "colab": {
          "base_uri": "https://localhost:8080/"
        },
        "id": "diYO01OuRRdt",
        "outputId": "8a4b6173-c760-40eb-e64f-44b6ad1fa303"
      },
      "execution_count": null,
      "outputs": [
        {
          "output_type": "stream",
          "name": "stdout",
          "text": [
            "10/10 [==============================] - 7s 447ms/step\n"
          ]
        }
      ]
    },
    {
      "cell_type": "code",
      "source": [
        "y_pred_test = np.array([np.argmax(i)+1 for i in Y_pred_test])\n",
        "Y_test_true = test_dataset.labels\n",
        "y_true_test = np.array([i+1 for i in Y_test_true])"
      ],
      "metadata": {
        "id": "tL4F2rsYjnnt"
      },
      "execution_count": null,
      "outputs": []
    },
    {
      "cell_type": "code",
      "source": [
        "from sklearn.metrics import classification_report\n",
        "print('Classification Report')\n",
        "target_names = ['meningioma', 'glioma', 'pituitary tumor']\n",
        "print(classification_report(y_true_test, y_pred_test, target_names=target_names))"
      ],
      "metadata": {
        "colab": {
          "base_uri": "https://localhost:8080/"
        },
        "id": "5gpLihfdjrEl",
        "outputId": "9f665908-c193-4d9d-a41b-67755a7c0731"
      },
      "execution_count": null,
      "outputs": [
        {
          "output_type": "stream",
          "name": "stdout",
          "text": [
            "Classification Report\n",
            "                 precision    recall  f1-score   support\n",
            "\n",
            "     meningioma       0.93      0.96      0.95        72\n",
            "         glioma       0.99      0.97      0.98       144\n",
            "pituitary tumor       0.98      0.99      0.98        93\n",
            "\n",
            "       accuracy                           0.97       309\n",
            "      macro avg       0.97      0.97      0.97       309\n",
            "   weighted avg       0.97      0.97      0.97       309\n",
            "\n"
          ]
        }
      ]
    },
    {
      "cell_type": "code",
      "source": [
        "from sklearn.metrics import ConfusionMatrixDisplay\n",
        "ConfusionMatrixDisplay.from_predictions(y_true_test, y_pred_test)\n",
        "plt.show()"
      ],
      "metadata": {
        "colab": {
          "base_uri": "https://localhost:8080/",
          "height": 283
        },
        "id": "DZN8MGMjjt3k",
        "outputId": "06074d4b-92f4-44d7-d6a8-19b3e276bd13"
      },
      "execution_count": null,
      "outputs": [
        {
          "output_type": "display_data",
          "data": {
            "text/plain": [
              "<Figure size 432x288 with 2 Axes>"
            ],
            "image/png": "[encoded data removed]"
          },
          "metadata": {
            "needs_background": "light"
          }
        }
      ]
    },
    {
      "cell_type": "code",
      "source": [
        "# plotting the train and validation accuracy with no of epochs\n",
        "plt.plot(history.history['accuracy'])\n",
        "plt.plot(history.history['val_accuracy'])\n",
        "plt.title('model accuracy')\n",
        "plt.ylabel('accuracy')\n",
        "plt.xlabel('epoch')\n",
        "plt.legend(['train', 'val'], loc='upper left')\n",
        "plt.show()"
      ],
      "metadata": {
        "id": "LyyZiqifjvzs",
        "colab": {
          "base_uri": "https://localhost:8080/",
          "height": 295
        },
        "outputId": "53c0a3f0-62dd-489f-9962-2dcfbe966386"
      },
      "execution_count": null,
      "outputs": [
        {
          "output_type": "display_data",
          "data": {
            "text/plain": [
              "<Figure size 432x288 with 1 Axes>"
            ],
            "image/png": "[encoded data removed]"
          },
          "metadata": {
            "needs_background": "light"
          }
        }
      ]
    },
    {
      "cell_type": "code",
      "source": [
        "plt.plot(history.history['loss'])\n",
        "plt.plot(history.history['val_loss'])\n",
        "plt.title('loss')\n",
        "plt.ylabel('loss')\n",
        "plt.xlabel('epoch')\n",
        "plt.legend(['train', 'val'], loc='upper left')\n",
        "plt.show()"
      ],
      "metadata": {
        "colab": {
          "base_uri": "https://localhost:8080/",
          "height": 295
        },
        "id": "kLRnUhLAlcEn",
        "outputId": "7576d738-c76c-4449-e554-fa3b3c875ef4"
      },
      "execution_count": null,
      "outputs": [
        {
          "output_type": "display_data",
          "data": {
            "text/plain": [
              "<Figure size 432x288 with 1 Axes>"
            ],
            "image/png": "[encoded data removed]"
          },
          "metadata": {
            "needs_background": "light"
          }
        }
      ]
    },
    {
      "cell_type": "code",
      "source": [
        "model.save('eefnetb4')"
      ],
      "metadata": {
        "colab": {
          "base_uri": "https://localhost:8080/"
        },
        "id": "soTDzMQLrKX4",
        "outputId": "4f20d384-4322-49ff-ee1b-ad69a5535872"
      },
      "execution_count": null,
      "outputs": [
        {
          "output_type": "stream",
          "name": "stderr",
          "text": [
            "WARNING:absl:Found untraced functions such as _jit_compiled_convolution_op, _jit_compiled_convolution_op, _jit_compiled_convolution_op, _jit_compiled_convolution_op, _jit_compiled_convolution_op while saving (showing 5 of 160). These functions will not be directly callable after loading.\n"
          ]
        }
      ]
    },
    {
      "cell_type": "code",
      "source": [
        "# !apt-get install texlive texlive-xetex texlive-latex-extra pandoc\n",
        "# !pip install pypandoc"
      ],
      "metadata": {
        "colab": {
          "base_uri": "https://localhost:8080/"
        },
        "id": "vpc47Y_MlkQv",
        "outputId": "3979f0af-6019-425e-c791-10e5ec71a25a"
      },
      "execution_count": null,
      "outputs": [
        {
          "output_type": "stream",
          "name": "stdout",
          "text": [
            "Reading package lists... Done\n",
            "Building dependency tree       \n",
            "Reading state information... Done\n",
            "pandoc is already the newest version (1.19.2.4~dfsg-1build4).\n",
            "texlive is already the newest version (2017.20180305-1).\n",
            "texlive-latex-extra is already the newest version (2017.20180305-2).\n",
            "texlive-xetex is already the newest version (2017.20180305-1).\n",
            "The following package was automatically installed and is no longer required:\n",
            "  libnvidia-common-460\n",
            "Use 'apt autoremove' to remove it.\n",
            "0 upgraded, 0 newly installed, 0 to remove and 27 not upgraded.\n",
            "Looking in indexes: https://pypi.org/simple, https://us-python.pkg.dev/colab-wheels/public/simple/\n",
            "Requirement already satisfied: pypandoc in /usr/local/lib/python3.7/dist-packages (1.9)\n"
          ]
        }
      ]
    },
    {
      "cell_type": "code",
      "source": [
        "!cp \"/content/drive/MyDrive/Colab Notebooks/AIMIA_project_B4.ipynb\" ./\n",
        "!jupyter nbconvert --to PDF \"AIMIA_project_B4.ipynb\""
      ],
      "metadata": {
        "colab": {
          "base_uri": "https://localhost:8080/"
        },
        "id": "R2L_sZvMlnze",
        "outputId": "fa33a797-b93a-4260-b569-b7fe81613678"
      },
      "execution_count": null,
      "outputs": [
        {
          "output_type": "stream",
          "name": "stdout",
          "text": [
            "[NbConvertApp] Converting notebook AIMIA_project_B4.ipynb to PDF\n",
            "[NbConvertApp] Support files will be in AIMIA_project_B4_files/\n",
            "[NbConvertApp] Making directory ./AIMIA_project_B4_files\n",
            "[NbConvertApp] Making directory ./AIMIA_project_B4_files\n",
            "[NbConvertApp] Making directory ./AIMIA_project_B4_files\n",
            "[NbConvertApp] Writing 43402 bytes to ./notebook.tex\n",
            "[NbConvertApp] Building PDF\n",
            "[NbConvertApp] Running xelatex 3 times: ['xelatex', './notebook.tex', '-quiet']\n",
            "[NbConvertApp] Running bibtex 1 time: ['bibtex', './notebook']\n",
            "[NbConvertApp] WARNING | bibtex had problems, most likely because there were no citations\n",
            "[NbConvertApp] PDF successfully created\n",
            "[NbConvertApp] Writing 75355 bytes to AIMIA_project_B4.pdf\n"
          ]
        }
      ]
    },
    {
      "cell_type": "code",
      "source": [],
      "metadata": {
        "id": "1-cf5xdQmJdm"
      },
      "execution_count": null,
      "outputs": []
    }
  ]
}