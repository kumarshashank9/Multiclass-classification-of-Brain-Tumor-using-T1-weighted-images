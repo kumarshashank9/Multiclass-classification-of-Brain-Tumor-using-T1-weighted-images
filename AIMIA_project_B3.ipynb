{
  "nbformat": 4,
  "nbformat_minor": 0,
  "metadata": {
    "colab": {
      "provenance": []
    },
    "kernelspec": {
      "name": "python3",
      "display_name": "Python 3"
    },
    "language_info": {
      "name": "python"
    },
    "accelerator": "GPU"
  },
  "cells": [
    {
      "cell_type": "code",
      "source": [
        "import numpy as np\n",
        "import pandas as pd\n",
        "import matplotlib.pyplot as plt\n",
        "import seaborn as sns\n",
        "import os\n",
        "from IPython.display import Image\n",
        "import zipfile as zf\n",
        "import matplotlib.image as img \n",
        "import tensorflow as tf\n",
        "from tensorflow.keras.applications.efficientnet import EfficientNetB3\n",
        "import random\n",
        "from sklearn.metrics import confusion_matrix\n",
        "\n",
        "seed=0\n",
        "os.environ['PYTHONHASHSEED'] = str(seed)\n",
        "# For working on GPUs from \"TensorFlow Determinism\"\n",
        "os.environ[\"TF_DETERMINISTIC_OPS\"] = str(seed)\n",
        "np.random.seed(seed)\n",
        "random.seed(seed)\n",
        "tf.random.set_seed(seed)"
      ],
      "metadata": {
        "id": "kRoqd0OtzUMb"
      },
      "execution_count": null,
      "outputs": []
    },
    {
      "cell_type": "code",
      "source": [
        "path = os.getcwd()"
      ],
      "metadata": {
        "id": "YRZ1tbJYzXPh"
      },
      "execution_count": null,
      "outputs": []
    },
    {
      "cell_type": "code",
      "source": [
        "tf.test.gpu_device_name()"
      ],
      "metadata": {
        "colab": {
          "base_uri": "https://localhost:8080/",
          "height": 36
        },
        "id": "JGtWjv0HsJuW",
        "outputId": "9a9b30d6-f9df-4c5c-97ab-a299bb0efdbf"
      },
      "execution_count": null,
      "outputs": [
        {
          "output_type": "execute_result",
          "data": {
            "text/plain": [
              "'/device:GPU:0'"
            ],
            "application/vnd.google.colaboratory.intrinsic+json": {
              "type": "string"
            }
          },
          "metadata": {},
          "execution_count": 3
        }
      ]
    },
    {
      "cell_type": "code",
      "source": [
        "from google.colab import drive\n",
        "drive.mount('/content/drive')"
      ],
      "metadata": {
        "colab": {
          "base_uri": "https://localhost:8080/"
        },
        "id": "yFy1LqRoE_fM",
        "outputId": "a30ede38-01ce-4cd2-ff46-784d6c3444e1"
      },
      "execution_count": null,
      "outputs": [
        {
          "output_type": "stream",
          "name": "stdout",
          "text": [
            "Mounted at /content/drive\n"
          ]
        }
      ]
    },
    {
      "cell_type": "code",
      "source": [
        "new_path='/content/drive/MyDrive/AIMIA_Project'"
      ],
      "metadata": {
        "id": "WDNDg-4oFCAd"
      },
      "execution_count": null,
      "outputs": []
    },
    {
      "cell_type": "code",
      "source": [
        "# !pip install split_folders\n",
        "# import splitfolders # or import splitfolders\n",
        "\n",
        "# input_folder = new_path\n",
        "# output = new_path #where you want the split datasets saved. one will be created if it does not exist or none is set\n",
        "# splitfolders.ratio(input_folder, output=output, seed=42, ratio=(.8, .1, .1)) # ratio of split are in order of train/val/test. You can change to whatever you want. For train/val sets only, you could do .75, .25 for example."
      ],
      "metadata": {
        "id": "fPsPyZ2pIjtn"
      },
      "execution_count": null,
      "outputs": []
    },
    {
      "cell_type": "code",
      "source": [
        "train_dir = os.path.join(new_path, 'train')\n",
        "validation_dir = os.path.join(new_path, 'val')\n",
        "test_dir = os.path.join(new_path, 'test')\n",
        "\n",
        "BATCH_SIZE = 32\n",
        "IMG_SIZE = (256, 256)\n",
        "\n",
        "test_datagen = tf.keras.preprocessing.image.ImageDataGenerator()\n",
        "\n",
        "train_dataset = tf.keras.utils.image_dataset_from_directory(train_dir,\n",
        "                                                            shuffle=True,\n",
        "                                                            batch_size=BATCH_SIZE,\n",
        "                                                            label_mode=\"categorical\",\n",
        "                                                            seed = 1,\n",
        "                                                            image_size=IMG_SIZE)\n",
        "\n",
        "validation_dataset = tf.keras.utils.image_dataset_from_directory(validation_dir,\n",
        "                                                                 shuffle=True,\n",
        "                                                                 batch_size=BATCH_SIZE,\n",
        "                                                                 label_mode=\"categorical\",\n",
        "                                                                 seed = 1,\n",
        "                                                                 image_size=IMG_SIZE)\n",
        "test_dataset = test_datagen.flow_from_directory(test_dir,\n",
        "                                                shuffle=False,\n",
        "                                                batch_size=BATCH_SIZE,\n",
        "                                                class_mode=\"categorical\",\n",
        "                                                seed = 1,\n",
        "                                                target_size=IMG_SIZE)"
      ],
      "metadata": {
        "colab": {
          "base_uri": "https://localhost:8080/"
        },
        "id": "6pobisw7IuhM",
        "outputId": "c0b3fb20-fa9b-4f08-9408-95ebf4637ad3"
      },
      "execution_count": null,
      "outputs": [
        {
          "output_type": "stream",
          "name": "stdout",
          "text": [
            "Found 2450 files belonging to 3 classes.\n",
            "Found 305 files belonging to 3 classes.\n",
            "Found 309 images belonging to 3 classes.\n"
          ]
        }
      ]
    },
    {
      "cell_type": "code",
      "source": [
        "model = tf.keras.Sequential()\n",
        "effnetb3 = EfficientNetB3(include_top=False,weights='imagenet',input_shape=(256,256,3),pooling='max')\n",
        "fine_tune_at = 300\n",
        "\n",
        "# Freeze all the layers before the `fine_tune_at` layer\n",
        "for layer in effnetb3.layers[:fine_tune_at]:\n",
        "  layer.trainable = False\n",
        "model.add(effnetb3)\n",
        "model.add(tf.keras.layers.Dense(3,activation='softmax'))\n",
        "model.summary()\n"
      ],
      "metadata": {
        "id": "rA0D_nvQJIBd",
        "colab": {
          "base_uri": "https://localhost:8080/"
        },
        "outputId": "56c08df6-f4a6-4b1a-bbd0-55f23ef1e472"
      },
      "execution_count": null,
      "outputs": [
        {
          "output_type": "stream",
          "name": "stdout",
          "text": [
            "Model: \"sequential_13\"\n",
            "_________________________________________________________________\n",
            " Layer (type)                Output Shape              Param #   \n",
            "=================================================================\n",
            " efficientnetb3 (Functional)  (None, 1536)             10783535  \n",
            "                                                                 \n",
            " dense_13 (Dense)            (None, 3)                 4611      \n",
            "                                                                 \n",
            "=================================================================\n",
            "Total params: 10,788,146\n",
            "Trainable params: 7,806,991\n",
            "Non-trainable params: 2,981,155\n",
            "_________________________________________________________________\n"
          ]
        }
      ]
    },
    {
      "cell_type": "code",
      "source": [
        "optimizer = tf.keras.optimizers.Adam(name='Adam')\n",
        "ACCURACY_THRESHOLD = 0.98\n",
        "class myCallback(tf.keras.callbacks.Callback): \n",
        "    def on_epoch_end(self, epoch, logs={}): \n",
        "        if(logs.get('accuracy') > ACCURACY_THRESHOLD):   \n",
        "            print(\"\\nReached %2.2f%% accuracy, so stopping training!!\" %(ACCURACY_THRESHOLD*100))   \n",
        "            self.model.stop_training = True\n",
        "            \n",
        "callbacks = myCallback()\n",
        "model.compile(optimizer='Adam', loss='categorical_crossentropy', metrics=['accuracy'])"
      ],
      "metadata": {
        "id": "TO3Gfb-hLR00"
      },
      "execution_count": null,
      "outputs": []
    },
    {
      "cell_type": "code",
      "source": [
        "history = model.fit(x=train_dataset,epochs=40,validation_data=validation_dataset,shuffle=False,callbacks=callbacks)"
      ],
      "metadata": {
        "colab": {
          "base_uri": "https://localhost:8080/"
        },
        "id": "aPgV5e9HLWsh",
        "outputId": "f130f0b6-a39f-4a22-8409-f415247aaaf9"
      },
      "execution_count": null,
      "outputs": [
        {
          "output_type": "stream",
          "name": "stdout",
          "text": [
            "Epoch 1/40\n",
            "77/77 [==============================] - 45s 391ms/step - loss: 0.9751 - accuracy: 0.8118 - val_loss: 0.4668 - val_accuracy: 0.8557\n",
            "Epoch 2/40\n",
            "77/77 [==============================] - 30s 363ms/step - loss: 0.1496 - accuracy: 0.9461 - val_loss: 0.2856 - val_accuracy: 0.9016\n",
            "Epoch 3/40\n",
            "77/77 [==============================] - 30s 362ms/step - loss: 0.0909 - accuracy: 0.9665 - val_loss: 0.4285 - val_accuracy: 0.9246\n",
            "Epoch 4/40\n",
            "77/77 [==============================] - 30s 357ms/step - loss: 0.0958 - accuracy: 0.9649 - val_loss: 0.3057 - val_accuracy: 0.9279\n",
            "Epoch 5/40\n",
            "77/77 [==============================] - 30s 364ms/step - loss: 0.0848 - accuracy: 0.9743 - val_loss: 0.2250 - val_accuracy: 0.9443\n",
            "Epoch 6/40\n",
            "77/77 [==============================] - 32s 382ms/step - loss: 0.0818 - accuracy: 0.9776 - val_loss: 0.2439 - val_accuracy: 0.9311\n",
            "Epoch 7/40\n",
            "77/77 [==============================] - 30s 359ms/step - loss: 0.0578 - accuracy: 0.9796 - val_loss: 0.3645 - val_accuracy: 0.9410\n",
            "Epoch 8/40\n",
            "77/77 [==============================] - 30s 359ms/step - loss: 0.0775 - accuracy: 0.9759 - val_loss: 0.3226 - val_accuracy: 0.9180\n",
            "Epoch 9/40\n",
            "77/77 [==============================] - ETA: 0s - loss: 0.0543 - accuracy: 0.9820\n",
            "Reached 98.00% accuracy, so stopping training!!\n",
            "77/77 [==============================] - 30s 363ms/step - loss: 0.0543 - accuracy: 0.9820 - val_loss: 0.4280 - val_accuracy: 0.9279\n"
          ]
        }
      ]
    },
    {
      "cell_type": "code",
      "source": [
        "Y_pred_test = model.predict(test_dataset)"
      ],
      "metadata": {
        "colab": {
          "base_uri": "https://localhost:8080/"
        },
        "id": "3hHc3HJ6LZph",
        "outputId": "ed293ee9-a426-48bf-bef9-d9633f3ae36b"
      },
      "execution_count": null,
      "outputs": [
        {
          "output_type": "stream",
          "name": "stdout",
          "text": [
            "10/10 [==============================] - 7s 452ms/step\n"
          ]
        }
      ]
    },
    {
      "cell_type": "code",
      "source": [
        "y_pred_test = np.array([np.argmax(i)+1 for i in Y_pred_test])\n",
        "Y_test_true = test_dataset.labels\n",
        "y_true_test = np.array([i+1 for i in Y_test_true])"
      ],
      "metadata": {
        "id": "IMCu7SoeMA2Z"
      },
      "execution_count": null,
      "outputs": []
    },
    {
      "cell_type": "code",
      "source": [
        "from sklearn.metrics import classification_report\n",
        "print('Classification Report')\n",
        "target_names = ['meningioma', 'glioma', 'pituitary tumor']\n",
        "print(classification_report(y_true_test, y_pred_test, target_names=target_names))"
      ],
      "metadata": {
        "colab": {
          "base_uri": "https://localhost:8080/"
        },
        "id": "8GgMyJ1bMFqR",
        "outputId": "84554fd1-7c51-4979-f92b-c64faac9d455"
      },
      "execution_count": null,
      "outputs": [
        {
          "output_type": "stream",
          "name": "stdout",
          "text": [
            "Classification Report\n",
            "                 precision    recall  f1-score   support\n",
            "\n",
            "     meningioma       0.97      0.93      0.95        72\n",
            "         glioma       0.98      0.99      0.98       144\n",
            "pituitary tumor       0.98      1.00      0.99        93\n",
            "\n",
            "       accuracy                           0.98       309\n",
            "      macro avg       0.98      0.97      0.97       309\n",
            "   weighted avg       0.98      0.98      0.98       309\n",
            "\n"
          ]
        }
      ]
    },
    {
      "cell_type": "code",
      "source": [
        "from sklearn.metrics import ConfusionMatrixDisplay\n",
        "ConfusionMatrixDisplay.from_predictions(y_true_test, y_pred_test)\n",
        "plt.show()"
      ],
      "metadata": {
        "colab": {
          "base_uri": "https://localhost:8080/",
          "height": 280
        },
        "id": "j1JUY9hzMIqR",
        "outputId": "10c2225d-79c6-441a-a807-bee549eff367"
      },
      "execution_count": null,
      "outputs": [
        {
          "output_type": "display_data",
          "data": {
            "text/plain": [
              "<Figure size 432x288 with 2 Axes>"
            ],
            "image/png": "[encoded data removed]"
          },
          "metadata": {
            "needs_background": "light"
          }
        }
      ]
    },
    {
      "cell_type": "code",
      "source": [
        "# plotting the train and validation accuracy with no of epochs\n",
        "plt.plot(history.history['accuracy'])\n",
        "plt.plot(history.history['val_accuracy'])\n",
        "plt.title('model accuracy')\n",
        "plt.ylabel('accuracy')\n",
        "plt.xlabel('epoch')\n",
        "plt.legend(['train', 'val'], loc='upper left')\n",
        "plt.show()"
      ],
      "metadata": {
        "colab": {
          "base_uri": "https://localhost:8080/",
          "height": 295
        },
        "id": "1a6m_BF_MLuQ",
        "outputId": "86253726-6e24-4cdf-9822-11ff493e6fb6"
      },
      "execution_count": null,
      "outputs": [
        {
          "output_type": "display_data",
          "data": {
            "text/plain": [
              "<Figure size 432x288 with 1 Axes>"
            ],
            "image/png": "[encoded data removed]"
          },
          "metadata": {
            "needs_background": "light"
          }
        }
      ]
    },
    {
      "cell_type": "code",
      "source": [
        "plt.plot(history.history['loss'])\n",
        "plt.plot(history.history['val_loss'])\n",
        "plt.title('loss')\n",
        "plt.ylabel('loss')\n",
        "plt.xlabel('epoch')\n",
        "plt.legend(['train', 'val'], loc='upper left')\n",
        "plt.show()"
      ],
      "metadata": {
        "colab": {
          "base_uri": "https://localhost:8080/",
          "height": 295
        },
        "id": "GYFwUItWMMn5",
        "outputId": "6d5b928a-10ba-423c-d41f-9dd3eb8d750e"
      },
      "execution_count": null,
      "outputs": [
        {
          "output_type": "display_data",
          "data": {
            "text/plain": [
              "<Figure size 432x288 with 1 Axes>"
            ],
            "image/png": "[encoded data removed]"
          },
          "metadata": {
            "needs_background": "light"
          }
        }
      ]
    },
    {
      "cell_type": "code",
      "source": [
        "model.save(\"Efficientnetb3\")"
      ],
      "metadata": {
        "id": "cDJ00S0gMP3w",
        "colab": {
          "base_uri": "https://localhost:8080/"
        },
        "outputId": "b2252636-6a69-4093-a436-5ed0145d1b86"
      },
      "execution_count": null,
      "outputs": [
        {
          "output_type": "stream",
          "name": "stderr",
          "text": [
            "WARNING:absl:Found untraced functions such as _jit_compiled_convolution_op, _jit_compiled_convolution_op, _jit_compiled_convolution_op, _jit_compiled_convolution_op, _jit_compiled_convolution_op while saving (showing 5 of 130). These functions will not be directly callable after loading.\n"
          ]
        }
      ]
    },
    {
      "cell_type": "code",
      "source": [
        "!apt-get install texlive texlive-xetex texlive-latex-extra pandoc\n",
        "!pip install pypandoc"
      ],
      "metadata": {
        "id": "S6vAzqrVa21s"
      },
      "execution_count": null,
      "outputs": []
    },
    {
      "cell_type": "code",
      "source": [
        "!cp \"/content/drive/MyDrive/Colab Notebooks/AIMIA_project.ipynb\" ./\n",
        "!jupyter nbconvert --to PDF \"AIMIA_project.ipynb\""
      ],
      "metadata": {
        "id": "brJx1-IO0_Sk"
      },
      "execution_count": null,
      "outputs": []
    },
    {
      "cell_type": "code",
      "source": [],
      "metadata": {
        "id": "3TLOn4WIZXtk"
      },
      "execution_count": null,
      "outputs": []
    }
  ]
}